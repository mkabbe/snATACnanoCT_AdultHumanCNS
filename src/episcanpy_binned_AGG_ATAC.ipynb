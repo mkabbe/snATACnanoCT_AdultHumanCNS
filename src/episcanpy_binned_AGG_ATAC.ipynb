{
 "cells": [
  {
   "cell_type": "code",
   "execution_count": 1,
   "id": "formed-florida",
   "metadata": {},
   "outputs": [],
   "source": [
    "import os\n",
    "import csv\n",
    "import scanpy as sc\n",
    "import anndata as ad\n",
    "import numpy as np\n",
    "import pandas as pd\n",
    "import episcanpy.api as epi"
   ]
  },
  {
   "cell_type": "code",
   "execution_count": 2,
   "id": "working-budget",
   "metadata": {},
   "outputs": [],
   "source": [
    "os.chdir(\"/Volumes/shared/Molekylär Neurobiologi/Castelo-Branco/Mukund/CZI_ADULT/CZI_ATAC\")"
   ]
  },
  {
   "cell_type": "code",
   "execution_count": 7,
   "id": "concrete-cambridge",
   "metadata": {},
   "outputs": [],
   "source": [
    "RESULTS_FILE = \"data/epi/Binned_2kb_count_AGG_ATAC_results.h5ad\"\n",
    "DATA_PATH = \"../../../NGSDATA/scATAC_human_adult_CZI_1/Processed_data/AGG_ATAC_210218/outs/\"\n",
    "BINS_PATH = \"bin/2kb_binned_hg38.bed\"\n",
    "FRAG_PATH = DATA_PATH + \"fragments.tsv.gz\"\n",
    "CSV_PATH = DATA_PATH + \"singlecell_EPI.csv\"\n",
    "METADATA_PATH = \"~/Documents/PhD/snATAC-seq/CZI/Metadata/sample_randomizer_metadata.csv\"\n",
    "GEM_TO_NGI_ID = {\"1\" : \"P20056_1001\",\n",
    "                \"2\" : \"P20056_1002\",\n",
    "                \"3\" : \"P20056_1003\",\n",
    "                \"4\" : \"P20056_1004\", \n",
    "                \"5\" : \"P20057_1001\",\n",
    "                \"6\" : \"P20057_1002\",\n",
    "                \"7\" : \"P20057_1003\"}\n",
    "NGI_ID_TO_GEM = {v: k for k, v in GEM_TO_NGI_ID.items()}"
   ]
  },
  {
   "cell_type": "code",
   "execution_count": 8,
   "id": "animated-sydney",
   "metadata": {},
   "outputs": [],
   "source": [
    "annot = epi.ct.load_features(BINS_PATH)"
   ]
  },
  {
   "cell_type": "code",
   "execution_count": null,
   "id": "proved-interpretation",
   "metadata": {
    "tags": []
   },
   "outputs": [
    {
     "name": "stdout",
     "output_type": "stream",
     "text": [
      "loading barcodes\n",
      "building count matrix\n"
     ]
    },
    {
     "name": "stderr",
     "output_type": "stream",
     "text": [
      "100%|██████████| 1544146/1544146 [2:57:06<00:00, 145.31it/s]  "
     ]
    }
   ],
   "source": [
    "## build the matrix (takes a LOT of time)\n",
    "counts = epi.ct.bld_mtx_fly(tsv_file = FRAG_PATH,\n",
    "                            csv_file = CSV_PATH,\n",
    "                           annotation = annot,\n",
    "                           save = \"data/epi/binned_2kb_count_matrix.h5ad\")"
   ]
  },
  {
   "cell_type": "code",
   "execution_count": null,
   "id": "warming-passage",
   "metadata": {},
   "outputs": [],
   "source": []
  }
 ],
 "metadata": {
  "kernelspec": {
   "display_name": "Python 3",
   "language": "python",
   "name": "python3"
  },
  "language_info": {
   "codemirror_mode": {
    "name": "ipython",
    "version": 3
   },
   "file_extension": ".py",
   "mimetype": "text/x-python",
   "name": "python",
   "nbconvert_exporter": "python",
   "pygments_lexer": "ipython3",
   "version": "3.6.11"
  }
 },
 "nbformat": 4,
 "nbformat_minor": 5
}
