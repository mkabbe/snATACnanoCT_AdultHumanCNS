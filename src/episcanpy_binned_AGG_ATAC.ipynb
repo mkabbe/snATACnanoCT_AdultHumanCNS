{
 "cells": [
  {
   "cell_type": "markdown",
   "id": "coordinated-prototype",
   "metadata": {},
   "source": [
    "## Build the feature matrix \n",
    "##### Features: 2kb windows\n",
    "##### Cells: Aggregated ATAC nuclei"
   ]
  },
  {
   "cell_type": "code",
   "execution_count": 59,
   "id": "complex-gregory",
   "metadata": {},
   "outputs": [],
   "source": [
    "import os\n",
    "import csv\n",
    "import scipy\n",
    "import scanpy as sc\n",
    "import anndata as ad\n",
    "import numpy as np\n",
    "import pandas as pd\n",
    "import episcanpy.api as epi\n",
    "%config InlineBackend.figure_format = \"retina\"\n",
    "os.chdir(\"/data/proj/GCB_MK/CZI/episcanpy_analysis/AGG_ATAC_210218/\")"
   ]
  },
  {
   "cell_type": "code",
   "execution_count": 9,
   "id": "collect-conviction",
   "metadata": {},
   "outputs": [],
   "source": [
    "RESULTS_FILE = \"data/Binned_2kb_count_AGG_ATAC_results.h5ad\"\n",
    "BINS_PATH = \"2kb_binned_hg38.bed\"\n",
    "FRAG_PATH = \"outs/fragments.tsv.gz\"\n",
    "CSV_PATH = \"outs/singlecell_EPI.csv\"\n",
    "METADATA_PATH = \"sample_randomizer_metadata.csv\"\n",
    "GEM_TO_NGI_ID = {\"1\" : \"P20056_1001\",\n",
    "                \"2\" : \"P20056_1002\",\n",
    "                \"3\" : \"P20056_1003\",\n",
    "                \"4\" : \"P20056_1004\", \n",
    "                \"5\" : \"P20057_1001\",\n",
    "                \"6\" : \"P20057_1002\",\n",
    "                \"7\" : \"P20057_1003\"}\n",
    "NGI_ID_TO_GEM = {v: k for k, v in GEM_TO_NGI_ID.items()}"
   ]
  },
  {
   "cell_type": "code",
   "execution_count": 10,
   "id": "suited-format",
   "metadata": {},
   "outputs": [],
   "source": [
    "annot = epi.ct.load_features(BINS_PATH)"
   ]
  },
  {
   "cell_type": "code",
   "execution_count": 11,
   "id": "intellectual-puzzle",
   "metadata": {},
   "outputs": [
    {
     "name": "stdout",
     "output_type": "stream",
     "text": [
      "loading barcodes\n",
      "building count matrix\n"
     ]
    },
    {
     "name": "stderr",
     "output_type": "stream",
     "text": [
      "100%|██████████| 1544146/1544146 [2:16:19<00:00, 188.79it/s]  \n"
     ]
    },
    {
     "name": "stdout",
     "output_type": "stream",
     "text": [
      "building AnnData object\n",
      "filtering barcodes\n"
     ]
    }
   ],
   "source": [
    "## build the matrix (takes a LOT of time)\n",
    "counts = epi.ct.bld_mtx_fly(tsv_file = FRAG_PATH,\n",
    "                            csv_file = CSV_PATH,\n",
    "                           annotation = annot,\n",
    "                           save = \"data/binned_2kb_count_matrix.h5ad\")"
   ]
  },
  {
   "cell_type": "code",
   "execution_count": 12,
   "id": "pressed-coordinate",
   "metadata": {},
   "outputs": [
    {
     "data": {
      "text/plain": [
       "AnnData object with n_obs × n_vars = 19062 × 1544146"
      ]
     },
     "execution_count": 12,
     "metadata": {},
     "output_type": "execute_result"
    }
   ],
   "source": [
    "adata = ad.read(\"data/binned_2kb_count_matrix.h5ad\")\n",
    "adata"
   ]
  },
  {
   "cell_type": "code",
   "execution_count": 14,
   "id": "republican-heath",
   "metadata": {},
   "outputs": [],
   "source": [
    "bcd_list = adata.obs_names.to_list()\n",
    "NGI_ID_list = [GEM_TO_NGI_ID[bcd.split(\"-\")[-1]] for bcd in bcd_list] \n",
    "adata.obs[\"NGI_ID\"] = NGI_ID_list\n",
    "\n",
    "meta = pd.read_csv(METADATA_PATH, sep=\",\")\n",
    "meta = meta[meta[\"NGI_ID\"].notna()]\n",
    "\n",
    "sample_attributes = meta.columns.to_list()\n",
    "sample_attributes.remove(\"NGI_ID\") #already added, not needed again\n",
    "\n",
    "#populates anndata.obs\n",
    "for attribute in sample_attributes:\n",
    "    adata.obs[attribute] = [meta.loc[meta.NGI_ID == i, attribute].iloc[0] for i in NGI_ID_list]"
   ]
  },
  {
   "cell_type": "code",
   "execution_count": 87,
   "id": "outside-schema",
   "metadata": {},
   "outputs": [],
   "source": [
    "## get barcodes of doublets identified from ArchR.\n",
    "ARCHR_ALL_BCD = \"./archr_all_bcd.csv\"\n",
    "ARCHR_SINGLET_BCD = \"./archr_singlet_bcd.csv\"\n",
    "\n",
    "with open(ARCHR_ALL_BCD, newline='') as f:\n",
    "    reader = csv.reader(f)\n",
    "    archr_all = list(reader)\n",
    "\n",
    "with open(ARCHR_SINGLET_BCD, newline='') as f:\n",
    "    reader = csv.reader(f)\n",
    "    archr_singlets = list(reader)\n",
    "    \n",
    "#change archr_barcode naming style to match anndata.obs\n",
    "archr_list = [archr_all, archr_singlets]\n",
    "idx = 0\n",
    "for ls in archr_list:\n",
    "    tmp = []\n",
    "    for archr_bcd in ls[1:]:\n",
    "        ngi_id,bcd = archr_bcd[-1].split(\"#\")\n",
    "        tmp.append(bcd[:-1] + NGI_ID_TO_GEM[ngi_id])\n",
    "    idx += 1\n",
    "    if idx == 1:\n",
    "        archr_all = tmp\n",
    "    else:\n",
    "        archr_singlets = tmp\n",
    "\n",
    "# get doublet barcodes\n",
    "archr_doublets = [bcd for bcd in archr_all if bcd not in archr_singlets]\n",
    "#add doublet attribute\n",
    "adata.obs[\"ArchR_doublet\"] = [\"True\" if bcd in archr_doublets  else \"False\" for bcd in bcd_list]"
   ]
  },
  {
   "cell_type": "code",
   "execution_count": 22,
   "id": "chronic-communist",
   "metadata": {},
   "outputs": [],
   "source": [
    "# add gene annotations \n",
    "epi.tl.find_genes(adata,\n",
    "           gtf_file='ref/gencode.v35.annotation.gtf',\n",
    "           key_added='transcript_annotation',\n",
    "           upstream=2000,\n",
    "           feature_type='transcript',\n",
    "           annotation='HAVANA',\n",
    "           raw=False)"
   ]
  },
  {
   "cell_type": "code",
   "execution_count": null,
   "id": "surprising-acrobat",
   "metadata": {},
   "outputs": [],
   "source": [
    "# get \"commonness\" of each feature (make sure matrix is binarized)\n",
    "n_cells = np.sum(adata.X, axis=0).tolist()\n",
    "adata.var[\"n_cells\"] = n_cells[0]"
   ]
  },
  {
   "cell_type": "markdown",
   "id": "multiple-minneapolis",
   "metadata": {},
   "source": [
    "#### Saving the 2kb count matrix before filtering top 60,000 features"
   ]
  },
  {
   "cell_type": "code",
   "execution_count": 123,
   "id": "laughing-shore",
   "metadata": {
    "tags": []
   },
   "outputs": [],
   "source": [
    "epi.pp.binarize(adata)\n",
    "adata.write(\"data/populated_binned_2kb_count_matrix.h5ad\")"
   ]
  },
  {
   "cell_type": "code",
   "execution_count": 124,
   "id": "recognized-contrast",
   "metadata": {},
   "outputs": [
    {
     "data": {
      "text/plain": [
       "AnnData object with n_obs × n_vars = 19062 × 1544146\n",
       "    obs: 'NGI_ID', 'ProcessNumber', 'caseNO', 'Tissue', 'Sex', 'Age', 'PMI', 'MK_ID', '10X_BATCH', 'NGS_BATCH', 'ArchR_doublet'\n",
       "    var: 'transcript_annotation', 'n_cells'"
      ]
     },
     "execution_count": 124,
     "metadata": {},
     "output_type": "execute_result"
    }
   ],
   "source": [
    "adata"
   ]
  },
  {
   "cell_type": "markdown",
   "id": "graphic-combination",
   "metadata": {},
   "source": [
    "### subset anndata by selecting only the top 20,000 features "
   ]
  },
  {
   "cell_type": "code",
   "execution_count": 125,
   "id": "dense-yukon",
   "metadata": {},
   "outputs": [],
   "source": [
    "small_adata = adata[:, adata.var[\"n_cells\"] >= np.sort(adata.var[\"n_cells\"])[-20000]]\n",
    "small_adata"
   ]
  },
  {
   "cell_type": "code",
   "execution_count": 127,
   "id": "weird-knight",
   "metadata": {
    "tags": []
   },
   "outputs": [],
   "source": [
    "#save \n",
    "small_adata.write(\"data/top60k_binned_2kb_count_matrix.h5ad\")"
   ]
  }
 ],
 "metadata": {
  "kernelspec": {
   "display_name": "Python 3",
   "language": "python",
   "name": "python3"
  },
  "language_info": {
   "codemirror_mode": {
    "name": "ipython",
    "version": 3
   },
   "file_extension": ".py",
   "mimetype": "text/x-python",
   "name": "python",
   "nbconvert_exporter": "python",
   "pygments_lexer": "ipython3",
   "version": "3.6.11"
  }
 },
 "nbformat": 4,
 "nbformat_minor": 5
}
